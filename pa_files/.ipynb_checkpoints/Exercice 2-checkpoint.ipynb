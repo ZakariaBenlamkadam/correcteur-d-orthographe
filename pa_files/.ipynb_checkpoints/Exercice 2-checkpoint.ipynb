{
 "cells": [
  {
   "cell_type": "markdown",
   "id": "67db190b",
   "metadata": {},
   "source": [
    "# Exercice 2"
   ]
  },
  {
   "cell_type": "markdown",
   "id": "2d221cdd",
   "metadata": {},
   "source": [
    "## Minimum Edit Distance"
   ]
  },
  {
   "cell_type": "markdown",
   "id": "4e2478ee",
   "metadata": {},
   "source": [
    "### Importation"
   ]
  },
  {
   "cell_type": "code",
   "execution_count": 42,
   "id": "cedf2bf6",
   "metadata": {},
   "outputs": [],
   "source": [
    "import numpy as np"
   ]
  },
  {
   "cell_type": "code",
   "execution_count": 43,
   "id": "6aa22b40",
   "metadata": {},
   "outputs": [
    {
     "name": "stdout",
     "output_type": "stream",
     "text": [
      "edit distance between execution and intention is 8\n"
     ]
    }
   ],
   "source": [
    "def del_cost():\n",
    "    return 1\n",
    "\n",
    "def ins_cost():\n",
    "    return 1\n",
    "\n",
    "def sub_cost(c1, c2):\n",
    "    if c1 == c2: \n",
    "        return 0\n",
    "    else:\n",
    "        return 2\n",
    "\n",
    "def min_edit_distance(source, target, do_print_chart=False):\n",
    "\n",
    "    \"\"\"\n",
    "    Parameters\n",
    "    ----------\n",
    "    source : str\n",
    "        The source string.\n",
    "    target : str\n",
    "        The target string.\n",
    "    Returns\n",
    "    -------\n",
    "    int\n",
    "        The edit distance between the two strings.\n",
    "    \"\"\"\n",
    "\n",
    "    # >>> YOUR ANSWER HERE\n",
    "    \n",
    "    m = len(source) \n",
    "    n = len(target) \n",
    "    D = np.zeros((m+1, n+1), dtype=int) \n",
    "    \n",
    "    \n",
    "    for row in range(1,m+1): \n",
    "        D[row,0] = row *del_cost()\n",
    "        \n",
    "    for col in range(1,n+1): \n",
    "        D[0,col] = col *ins_cost()\n",
    "        \n",
    "    for row in range(1,m+1):   \n",
    "        for col in range(1,n+1):\n",
    "            r_cost = sub_cost(source[row -1],target[col-1])\n",
    "            D[row,col] = min(D[row-1,col-1] + r_cost, D[row-1,col] + del_cost(), D[row,col-1] + ins_cost())\n",
    "            \n",
    "    med = D[m,n]\n",
    "    \n",
    "    return D , med\n",
    "    # >>> END YOUR ANSWER\n",
    "execution = 'execution'\n",
    "intention = 'intention'\n",
    "D, med = min_edit_distance(execution, intention)\n",
    "\n",
    "\n",
    "print('edit distance between '+ execution+' and ' + intention +' is', med)"
   ]
  },
  {
   "cell_type": "markdown",
   "id": "ac924e41",
   "metadata": {},
   "source": [
    "## Backtrace"
   ]
  },
  {
   "cell_type": "markdown",
   "id": "f65e1edc",
   "metadata": {},
   "source": [
    "Enrich your edit distance function to also record the backtrace as described in the course. Use this demotion to print an alignment between strings."
   ]
  },
  {
   "cell_type": "code",
   "execution_count": 44,
   "id": "553d2fd8",
   "metadata": {},
   "outputs": [],
   "source": [
    "def backtrace(distances):\n",
    "    \"\"\"Finds the path for string alignment using backtrace.\n",
    "\n",
    "    Args:\n",
    "        distances: Array of minimum edit distances.\n",
    "    Returns:\n",
    "        list: Path for string alignment.\n",
    "    \"\"\"\n",
    "    current_row, current_column = len(distances) - 1, len(distances[0]) - 1\n",
    "    path = [(current_row, current_column)]\n",
    "    while (current_row, current_column) != (0, 0):\n",
    "        one_row_back = current_row - 1\n",
    "        one_column_back = current_column - 1\n",
    "        edits = [\n",
    "            # Insert\n",
    "            (distances[one_row_back][current_column], (one_row_back, current_column)),\n",
    "            # Delete\n",
    "            (distances[current_row][one_column_back], (current_row, one_column_back)),\n",
    "            # Substitute\n",
    "            (distances[one_row_back][one_column_back], (one_row_back, one_column_back))\n",
    "        ]\n",
    "        minimum_edit_distance, cell_coordinates = min(edits, key=lambda x: x[0])\n",
    "        path.append(cell_coordinates)\n",
    "        current_row, current_column = cell_coordinates\n",
    "    return list(reversed(path))\n"
   ]
  },
  {
   "cell_type": "code",
   "execution_count": 45,
   "id": "869d7fae",
   "metadata": {},
   "outputs": [
    {
     "data": {
      "text/plain": [
       "array([[0, 1, 2, 3, 4, 5],\n",
       "       [1, 2, 3, 4, 5, 6],\n",
       "       [2, 3, 4, 5, 6, 7],\n",
       "       [3, 4, 3, 4, 5, 6],\n",
       "       [4, 5, 4, 3, 4, 5],\n",
       "       [5, 6, 5, 4, 5, 4]])"
      ]
     },
     "execution_count": 45,
     "metadata": {},
     "output_type": "execute_result"
    }
   ],
   "source": [
    "editor,med = min_edit_distance(\"drats\", \"maths\")\n",
    "editor"
   ]
  },
  {
   "cell_type": "code",
   "execution_count": 46,
   "id": "f90eac1e",
   "metadata": {},
   "outputs": [
    {
     "name": "stdout",
     "output_type": "stream",
     "text": [
      "[(0, 0), (1, 0), (2, 1), (3, 2), (4, 3), (4, 4), (5, 5)]\n"
     ]
    }
   ],
   "source": [
    "print(backtrace(editor))"
   ]
  },
  {
   "cell_type": "markdown",
   "id": "65df759f",
   "metadata": {},
   "source": [
    "## Alignement"
   ]
  },
  {
   "cell_type": "code",
   "execution_count": 47,
   "id": "c0d29a9d",
   "metadata": {},
   "outputs": [],
   "source": [
    "def alignment(path, source, target, empty_token=\"*\"):\n",
    "    \"\"\"Prints the alignment for the path.\n",
    "\n",
    "    Args:\n",
    "        path: List of (row, column) tuples.\n",
    "        source: The source string.\n",
    "        target: The target string.\n",
    "        empty_token: Token to insert for skipped characters.\n",
    "    \"\"\"\n",
    "    previous_row = previous_column = None\n",
    "    source_tokens = []\n",
    "    target_tokens = []\n",
    "    source = empty_token + source\n",
    "    target = empty_token + target\n",
    "    for current_row, current_column in path[1:]:\n",
    "        source_token = source[current_row] if current_row != previous_row else empty_token\n",
    "        target_token = target[current_column] if current_column != previous_column else empty_token\n",
    "\n",
    "        source_tokens.append(source_token)\n",
    "        target_tokens.append(target_token)\n",
    "\n",
    "        previous_row, previous_column = current_row, current_column\n",
    "\n",
    "    # Print the alignment\n",
    "    print(\"|\" + \"|\".join(source_tokens) + \"|\")\n",
    "    print(\"|\" + \"|\".join(target_tokens) + \"|\")\n"
   ]
  },
  {
   "cell_type": "code",
   "execution_count": 48,
   "id": "ee434d51",
   "metadata": {},
   "outputs": [
    {
     "name": "stdout",
     "output_type": "stream",
     "text": [
      "|d|r|a|t|*|s|\n",
      "|*|m|a|t|h|s|\n"
     ]
    }
   ],
   "source": [
    "path = backtrace(editor)\n",
    "alignment(path, \"drats\", \"maths\")"
   ]
  },
  {
   "cell_type": "markdown",
   "id": "b7eb75d5",
   "metadata": {},
   "source": [
    "### Adjacency"
   ]
  },
  {
   "cell_type": "markdown",
   "id": "84d667a1",
   "metadata": {},
   "source": [
    "Adjacency costs. The costs in this calculation are ultimately arbitrary decisions that we have the right to make. Try modifying the cost functions to calculate a smarter version of edit distance that might be applicable to spelling correction, or at least that might better handle the messy text of the web. There are several ways to do this. We could say, for example, that the substitution cost of hitting an adjacent key is lower than the cost of hitting a non-adjacent key. In\n",
    "assuming a QWERTY keyboard you can use the data given in the qwerty_graph.txt file\n"
   ]
  },
  {
   "cell_type": "code",
   "execution_count": 49,
   "id": "be7aabf9",
   "metadata": {},
   "outputs": [],
   "source": [
    "import ast\n",
    "import json\n",
    "\n",
    "def convert_to_json(file_path):\n",
    "    \"\"\"Converts the content of a file from a string representation of a dictionary to JSON format.\n",
    "\n",
    "    Args:\n",
    "        file_path (str): The path to the file containing the string representation of a dictionary.\n",
    "    \n",
    "    Returns:\n",
    "        str: The content of the file in JSON format.\n",
    "    \"\"\"\n",
    "    with open(file_path, 'r') as file:\n",
    "        content = file.read()\n",
    "        # Convert the string representation of dictionary to a Python dictionary\n",
    "        data = ast.literal_eval(content)\n",
    "        # Convert the dictionary to JSON format\n",
    "        json_data = json.dumps(data, indent=4) \n",
    "        return json_data\n",
    "\n",
    "json_content = convert_to_json('qwerty_graph.txt')\n",
    "#print(json_content)\n"
   ]
  },
  {
   "cell_type": "code",
   "execution_count": 50,
   "id": "aff14c3d",
   "metadata": {},
   "outputs": [],
   "source": [
    "def load_adjacency_graph_from_json(json_content):\n",
    "\n",
    "    return json.loads(json_content)\n"
   ]
  },
  {
   "cell_type": "code",
   "execution_count": 51,
   "id": "88c11646",
   "metadata": {},
   "outputs": [],
   "source": [
    "adjacency_graph = load_adjacency_graph_from_json(json_content)\n",
    "\n",
    "def sub_cost(c1, c2, adjacency_graph):\n",
    "    \"\"\"\n",
    "    Calculate the cost of substituting character c1 with character c2.\n",
    "    The cost is higher for non-adjacent key substitutions.\n",
    "    \"\"\"\n",
    "    if c1 == c2:\n",
    "        return 0\n",
    "    \n",
    "    # Check if characters are adjacent in the adjacency graph\n",
    "    if c1 in adjacency_graph and c2 in adjacency_graph[c1].values():\n",
    "        #print(f\"Adjacent key substitution: {c1} -> {c2}\")\n",
    "        return 1\n",
    "    else:\n",
    "        #print(f\"Non-adjacent key substitution: {c1} -> {c2}\")\n",
    "        return 2\n",
    "\n",
    "def ins_cost(c, prev_c, adjacency_graph):\n",
    "    if prev_c and prev_c in adjacency_graph and c in adjacency_graph[prev_c].values():\n",
    "        print(f\"Inserting '{c}' adjacent to '{prev_c}'\")\n",
    "        return 1  \n",
    "    else:\n",
    "        #print(f\"Inserting '{c}' non-adjacent to '{prev_c}'\")\n",
    "        return 2  \n",
    "\n",
    "# Adjusted deletion cost function\n",
    "def del_cost(c, next_c, adjacency_graph):\n",
    "    if next_c and next_c in adjacency_graph and c in adjacency_graph[next_c].values():\n",
    "        print(f\"Deleting '{c}' adjacent to '{next_c}'\")\n",
    "        return 1  \n",
    "    else:\n",
    "        #print(f\"Deleting '{c}' non-adjacent to '{next_c}'\")\n",
    "        return 2  \n"
   ]
  },
  {
   "cell_type": "markdown",
   "id": "eb6439fd",
   "metadata": {},
   "source": [
    "## Minimum Edit Distance With Adjacency"
   ]
  },
  {
   "cell_type": "code",
   "execution_count": 52,
   "id": "9c339afb",
   "metadata": {},
   "outputs": [],
   "source": [
    "import numpy as np\n",
    "\n",
    "def min_edit_distance_with_adjacency(source, target, adjacency_graph, do_print_chart=False):\n",
    "    \"\"\"\n",
    "    Calculate the minimum edit distance between two strings.\n",
    "\n",
    "    Args:\n",
    "        source (str): The source string.\n",
    "        target (str): The target string.\n",
    "        adjacency_graph (dict): The adjacency graph representing the keyboard layout.\n",
    "        do_print_chart (bool, optional): Whether to print the dynamic programming chart. Defaults to False.\n",
    "\n",
    "    Returns:\n",
    "        tuple: A tuple containing the dynamic programming chart and the minimum edit distance.\n",
    "    \"\"\"\n",
    "    m = len(source)\n",
    "    n = len(target)\n",
    "    D = np.zeros((m+1, n+1), dtype=int)\n",
    "    \n",
    "    for row in range(1, m+1):\n",
    "        D[row, 0] = row * del_cost(source[row-1], None, adjacency_graph) \n",
    "    \n",
    "    for col in range(1, n+1):\n",
    "        D[0, col] = col * ins_cost(target[col-1], None, adjacency_graph) \n",
    "        \n",
    "    for row in range(1, m+1):\n",
    "        for col in range(1, n+1):\n",
    "            r_cost = sub_cost(source[row-1], target[col-1], adjacency_graph)\n",
    "            del_cost_val = del_cost(source[row-1], None, adjacency_graph)  \n",
    "            ins_cost_val = ins_cost(target[col-1], None, adjacency_graph)\n",
    "            D[row, col] = min(\n",
    "                D[row-1, col] + del_cost_val,\n",
    "                D[row, col-1] + ins_cost_val,\n",
    "                D[row-1, col-1] + r_cost\n",
    "            )\n",
    "            \n",
    "    \n",
    "    return D, D[m, n]\n"
   ]
  },
  {
   "cell_type": "code",
   "execution_count": 53,
   "id": "1bdde535",
   "metadata": {},
   "outputs": [
    {
     "name": "stdout",
     "output_type": "stream",
     "text": [
      "Edit distance between \"execution\" and \"intention\" with adjacency graph: 10\n"
     ]
    }
   ],
   "source": [
    "adjacency_graph = load_adjacency_graph_from_json(json_content)\n",
    "\n",
    "#print(\"Adjacency Graph:\", adjacency_graph)\n",
    "\n",
    "D, med = min_edit_distance_with_adjacency(\"execution\", \"intention\", adjacency_graph)\n",
    "\n",
    "print('Edit distance between \"execution\" and \"intention\" with adjacency graph:', med)\n"
   ]
  },
  {
   "cell_type": "markdown",
   "id": "c69c0bbc",
   "metadata": {},
   "source": [
    "## Spell Checker"
   ]
  },
  {
   "cell_type": "markdown",
   "id": "fd5d5872",
   "metadata": {},
   "source": [
    "Implement your first version of a spell checker based on the following simple algorithm:\n",
    "Let w be a word containing a spelling error, calculate the distance between w and all the words in a dictionary containing valid words then propose the k possible corrections (the k closest words according to the minimum editing distance)."
   ]
  },
  {
   "cell_type": "code",
   "execution_count": 54,
   "id": "a2c2f760",
   "metadata": {},
   "outputs": [
    {
     "name": "stdout",
     "output_type": "stream",
     "text": [
      "Word 'brows' not found in the dictionary.\n",
      "Suggested corrections:\n",
      "brows\n",
      "grows\n",
      "Gross\n",
      "bows\n",
      "blows\n"
     ]
    }
   ],
   "source": [
    "import string\n",
    "\n",
    "\n",
    "def load_dict(file_path):\n",
    "    \"\"\"\n",
    "    Load a dictionnary of unique words from a text file, excluding punctuations.\n",
    "    \"\"\"\n",
    "    with open(file_path, 'r') as file:\n",
    "        words = file.read().split()\n",
    "        dictionnary = set(word.strip(string.punctuation) for word in words)\n",
    "    return dictionnary\n",
    "\n",
    "def spell_check(word, lexicon, adjacency_graph, k=5):\n",
    "\n",
    "    corrections = [(w, min_edit_distance_with_adjacency(word, w, adjacency_graph)[1]) for w in dictionnary]\n",
    "    suggested_corrections = sorted(corrections, key=lambda x: x[1])[:k]\n",
    "    return [w for w, _ in suggested_corrections]\n",
    "\n",
    "dictionnary = load_dict('big.txt')\n",
    "\n",
    "word_to_check = \"brows\"\n",
    "suggested_corrections = spell_check(word_to_check, dictionnary, adjacency_graph)\n",
    "\n",
    "if suggested_corrections:\n",
    "    print(f\"Word '{word_to_check}' not found in the dictionary.\")\n",
    "    print(\"Suggested corrections:\")\n",
    "    for correction in suggested_corrections:\n",
    "        print(correction)\n",
    "else:\n",
    "    print(f\"Word '{word_to_check}' is spelled correctly.\")\n"
   ]
  },
  {
   "cell_type": "markdown",
   "id": "f958ecea",
   "metadata": {},
   "source": [
    "## Filters"
   ]
  },
  {
   "cell_type": "markdown",
   "id": "75083bd0",
   "metadata": {},
   "source": [
    "Optimize the previous algorithm taking into account the following remarks:\n",
    "- People usually get the first letter of the word correct, so we can limit our search to words starting with the same letter.\n",
    "- We can restrict our search to words of the same or similar length.\n",
    "- We can narrow our search to words that sound the same, using a phonetic code to group words (like Soundex).\n",
    "- Using other techniques of your choice"
   ]
  },
  {
   "cell_type": "code",
   "execution_count": 56,
   "id": "48c1bb81",
   "metadata": {},
   "outputs": [
    {
     "name": "stdout",
     "output_type": "stream",
     "text": [
      "Word 'ber' not found in the dictionary.\n",
      "Suggested corrections:\n",
      "bar\n",
      "bier\n",
      "bear\n",
      "beer\n",
      "boer\n"
     ]
    }
   ],
   "source": [
    "def filter_words_by_initial_letter(word, dictionnary):\n",
    "\n",
    "    initial_letter = word[0].lower()\n",
    "    return [w for w in dictionnary if w.startswith(initial_letter)]\n",
    "\n",
    "def filter_words_by_length(word, dictionnary):\n",
    "\n",
    "    word_length = len(word)\n",
    "    return [w for w in dictionnary if abs(len(w) - word_length) <= 1]\n",
    "\n",
    "import soundex\n",
    "\n",
    "def filter_words_by_phonetic_similarity(word, dictionnary):\n",
    "\n",
    "    word_soundex = soundex.Soundex()\n",
    "    word_soundex_code = word_soundex.soundex(word)\n",
    "    return [w for w in dictionnary if word_soundex.soundex(w.lower()) == word_soundex_code]\n",
    "\n",
    "\n",
    "def spell_checker_optimized(word, dictionnary, adjacency_graph, k=5):\n",
    "    filtered_words = filter_words_by_initial_letter(word, dictionnary)\n",
    "    filtered_words = filter_words_by_length(word, filtered_words)\n",
    "    filtered_words = filter_words_by_phonetic_similarity(word, filtered_words)\n",
    "    \n",
    "    distances = [(w, min_edit_distance_with_adjacency(word, w, adjacency_graph)[1]) for w in filtered_words]\n",
    "    \n",
    "    closest_words = sorted(distances, key=lambda x: x[1])[:k]\n",
    "    return [w for w, _ in closest_words]\n",
    "\n",
    "word_to_check = \"ber\"\n",
    "suggested_corrections = spell_checker_optimized(word_to_check, dictionnary, adjacency_graph)\n",
    "\n",
    "if word_to_check in dictionnary:\n",
    "    print(f\"Word '{word_to_check}' is spelled correctly.\")\n",
    "else:\n",
    "    print(f\"Word '{word_to_check}' not found in the dictionary.\")\n",
    "    if suggested_corrections:\n",
    "        print(\"Suggested corrections:\")\n",
    "        for correction in suggested_corrections:\n",
    "            print(correction)\n"
   ]
  }
 ],
 "metadata": {
  "kernelspec": {
   "display_name": "Python 3 (ipykernel)",
   "language": "python",
   "name": "python3"
  },
  "language_info": {
   "codemirror_mode": {
    "name": "ipython",
    "version": 3
   },
   "file_extension": ".py",
   "mimetype": "text/x-python",
   "name": "python",
   "nbconvert_exporter": "python",
   "pygments_lexer": "ipython3",
   "version": "3.9.13"
  }
 },
 "nbformat": 4,
 "nbformat_minor": 5
}
